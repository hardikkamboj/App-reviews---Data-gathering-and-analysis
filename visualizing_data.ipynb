{
  "nbformat": 4,
  "nbformat_minor": 0,
  "metadata": {
    "colab": {
      "name": "visualizing_data.ipynb",
      "provenance": [],
      "authorship_tag": "ABX9TyOceDN466W86IuCSc5IxQLo",
      "include_colab_link": true
    },
    "kernelspec": {
      "name": "python3",
      "display_name": "Python 3"
    },
    "language_info": {
      "name": "python"
    }
  },
  "cells": [
    {
      "cell_type": "markdown",
      "metadata": {
        "id": "view-in-github",
        "colab_type": "text"
      },
      "source": [
        "<a href=\"https://colab.research.google.com/github/hardikkamboj/App-reviews---Data-gathering-and-analysis/blob/main/visualizing_data.ipynb\" target=\"_parent\"><img src=\"https://colab.research.google.com/assets/colab-badge.svg\" alt=\"Open In Colab\"/></a>"
      ]
    },
    {
      "cell_type": "code",
      "metadata": {
        "colab": {
          "base_uri": "https://localhost:8080/"
        },
        "id": "QhWY2487qgE8",
        "outputId": "1038c8c8-6697-4a15-e6a3-393942997042"
      },
      "source": [
        "import pandas as pd \n",
        "import matplotlib.pyplot as plt\n",
        "import seaborn as sns\n",
        "\n",
        "from nltk import word_tokenize\n",
        "from nltk.stem import WordNetLemmatizer\n",
        "from nltk.corpus import stopwords\n",
        "import re\n",
        "from textblob import TextBlob\n",
        "\n",
        "\n",
        "stop_words = stopwords.words('english')\n",
        "nltk.download('punkt')\n",
        "nltk.download('wordnet')\n",
        "lemmatizer = WordNetLemmatizer()"
      ],
      "execution_count": 53,
      "outputs": [
        {
          "output_type": "stream",
          "text": [
            "[nltk_data] Downloading package punkt to /root/nltk_data...\n",
            "[nltk_data]   Package punkt is already up-to-date!\n",
            "[nltk_data] Downloading package wordnet to /root/nltk_data...\n",
            "[nltk_data]   Package wordnet is already up-to-date!\n"
          ],
          "name": "stdout"
        }
      ]
    },
    {
      "cell_type": "code",
      "metadata": {
        "colab": {
          "base_uri": "https://localhost:8080/",
          "height": 666
        },
        "id": "kSt405a4wwBr",
        "outputId": "460a36aa-e05a-494f-c098-903d12d2f571"
      },
      "source": [
        "df = pd.read_csv('/content/axis_merchant.csv')\n",
        "print(df.shape)\n",
        "df.head()"
      ],
      "execution_count": 54,
      "outputs": [
        {
          "output_type": "stream",
          "text": [
            "(383, 11)\n"
          ],
          "name": "stdout"
        },
        {
          "output_type": "execute_result",
          "data": {
            "text/html": [
              "<div>\n",
              "<style scoped>\n",
              "    .dataframe tbody tr th:only-of-type {\n",
              "        vertical-align: middle;\n",
              "    }\n",
              "\n",
              "    .dataframe tbody tr th {\n",
              "        vertical-align: top;\n",
              "    }\n",
              "\n",
              "    .dataframe thead th {\n",
              "        text-align: right;\n",
              "    }\n",
              "</style>\n",
              "<table border=\"1\" class=\"dataframe\">\n",
              "  <thead>\n",
              "    <tr style=\"text-align: right;\">\n",
              "      <th></th>\n",
              "      <th>Unnamed: 0</th>\n",
              "      <th>reviewId</th>\n",
              "      <th>userName</th>\n",
              "      <th>userImage</th>\n",
              "      <th>content</th>\n",
              "      <th>score</th>\n",
              "      <th>thumbsUpCount</th>\n",
              "      <th>reviewCreatedVersion</th>\n",
              "      <th>at</th>\n",
              "      <th>replyContent</th>\n",
              "      <th>repliedAt</th>\n",
              "    </tr>\n",
              "  </thead>\n",
              "  <tbody>\n",
              "    <tr>\n",
              "      <th>0</th>\n",
              "      <td>0</td>\n",
              "      <td>gp:AOqpTOFVeaiZwKMk1YiPI5VbMaMDdz3afjdjeBD_ZKw...</td>\n",
              "      <td>Kunal Choksi</td>\n",
              "      <td>https://play-lh.googleusercontent.com/a-/AOh14...</td>\n",
              "      <td>Totally not satisfied with services. No respon...</td>\n",
              "      <td>1</td>\n",
              "      <td>17</td>\n",
              "      <td>1.1.8</td>\n",
              "      <td>2021-03-19 18:21:48</td>\n",
              "      <td>NaN</td>\n",
              "      <td>NaN</td>\n",
              "    </tr>\n",
              "    <tr>\n",
              "      <th>1</th>\n",
              "      <td>1</td>\n",
              "      <td>gp:AOqpTOFu1-It2xJ0WYiryKStQ3TUNHG9q31mwGI4oBu...</td>\n",
              "      <td>Chandrakant Ghangale</td>\n",
              "      <td>https://play-lh.googleusercontent.com/a-/AOh14...</td>\n",
              "      <td>Poor report/mis service. Can't change the date...</td>\n",
              "      <td>1</td>\n",
              "      <td>11</td>\n",
              "      <td>1.1.8</td>\n",
              "      <td>2021-03-28 21:28:32</td>\n",
              "      <td>NaN</td>\n",
              "      <td>NaN</td>\n",
              "    </tr>\n",
              "    <tr>\n",
              "      <th>2</th>\n",
              "      <td>2</td>\n",
              "      <td>gp:AOqpTOEZovnMWg8z6ynVs8mR3Qr_9WwnIWLy8_iMtSR...</td>\n",
              "      <td>Prakash Reddy</td>\n",
              "      <td>https://play-lh.googleusercontent.com/a-/AOh14...</td>\n",
              "      <td>Not able to see transaction reports, showing n...</td>\n",
              "      <td>1</td>\n",
              "      <td>4</td>\n",
              "      <td>1.1.8</td>\n",
              "      <td>2021-05-09 09:16:17</td>\n",
              "      <td>NaN</td>\n",
              "      <td>NaN</td>\n",
              "    </tr>\n",
              "    <tr>\n",
              "      <th>3</th>\n",
              "      <td>3</td>\n",
              "      <td>gp:AOqpTOFmPJa1do5AVUJ4X5ZGwkzhx6OAeb8dJLtaJoJ...</td>\n",
              "      <td>sahil gupta</td>\n",
              "      <td>https://play-lh.googleusercontent.com/a/AATXAJ...</td>\n",
              "      <td>Good Job! Complaints are actually getting reso...</td>\n",
              "      <td>5</td>\n",
              "      <td>17</td>\n",
              "      <td>1.1.6</td>\n",
              "      <td>2018-12-12 12:18:10</td>\n",
              "      <td>Dear Sahil, Thanks for the feedback. We will c...</td>\n",
              "      <td>2018-12-19 13:15:02</td>\n",
              "    </tr>\n",
              "    <tr>\n",
              "      <th>4</th>\n",
              "      <td>4</td>\n",
              "      <td>gp:AOqpTOF_fy773cE5sNtf0a0yy3sDqG24OFuzbpaz9vi...</td>\n",
              "      <td>R.Sharath kumar</td>\n",
              "      <td>https://play-lh.googleusercontent.com/a-/AOh14...</td>\n",
              "      <td>Feeling very irritated - Not able to login at ...</td>\n",
              "      <td>1</td>\n",
              "      <td>28</td>\n",
              "      <td>1.1.7.2</td>\n",
              "      <td>2020-08-20 16:28:56</td>\n",
              "      <td>NaN</td>\n",
              "      <td>NaN</td>\n",
              "    </tr>\n",
              "  </tbody>\n",
              "</table>\n",
              "</div>"
            ],
            "text/plain": [
              "   Unnamed: 0  ...            repliedAt\n",
              "0           0  ...                  NaN\n",
              "1           1  ...                  NaN\n",
              "2           2  ...                  NaN\n",
              "3           3  ...  2018-12-19 13:15:02\n",
              "4           4  ...                  NaN\n",
              "\n",
              "[5 rows x 11 columns]"
            ]
          },
          "metadata": {
            "tags": []
          },
          "execution_count": 54
        }
      ]
    },
    {
      "cell_type": "code",
      "metadata": {
        "colab": {
          "base_uri": "https://localhost:8080/"
        },
        "id": "wwy9TSAxxO3e",
        "outputId": "221333c5-357a-4a8f-c9e3-a9db1ec4eb1d"
      },
      "source": [
        "df.isnull().sum()"
      ],
      "execution_count": 55,
      "outputs": [
        {
          "output_type": "execute_result",
          "data": {
            "text/plain": [
              "Unnamed: 0                0\n",
              "reviewId                  0\n",
              "userName                  0\n",
              "userImage                 0\n",
              "content                   0\n",
              "score                     0\n",
              "thumbsUpCount             0\n",
              "reviewCreatedVersion     84\n",
              "at                        0\n",
              "replyContent            278\n",
              "repliedAt               278\n",
              "dtype: int64"
            ]
          },
          "metadata": {
            "tags": []
          },
          "execution_count": 55
        }
      ]
    },
    {
      "cell_type": "code",
      "metadata": {
        "colab": {
          "base_uri": "https://localhost:8080/",
          "height": 405
        },
        "id": "NvAjNukSxU8I",
        "outputId": "e54c5b54-e960-44ef-9889-0b126a56b01a"
      },
      "source": [
        "plt.figure(figsize = (8,6))\n",
        "sns.countplot(y = df['score'])"
      ],
      "execution_count": 56,
      "outputs": [
        {
          "output_type": "execute_result",
          "data": {
            "text/plain": [
              "<matplotlib.axes._subplots.AxesSubplot at 0x7fb460322fd0>"
            ]
          },
          "metadata": {
            "tags": []
          },
          "execution_count": 56
        },
        {
          "output_type": "display_data",
          "data": {
            "image/png": "[encoded data removed]",
            "text/plain": [
              "<Figure size 576x432 with 1 Axes>"
            ]
          },
          "metadata": {
            "tags": [],
            "needs_background": "light"
          }
        }
      ]
    },
    {
      "cell_type": "code",
      "metadata": {
        "colab": {
          "base_uri": "https://localhost:8080/",
          "height": 459
        },
        "id": "AD4N-9phxcBE",
        "outputId": "6c43d27c-f5ce-45d3-f5a0-3811230098dc"
      },
      "source": [
        "plt.figure(figsize = (8,6))\n",
        "sns.countplot(df['thumbsUpCount'])"
      ],
      "execution_count": 57,
      "outputs": [
        {
          "output_type": "stream",
          "text": [
            "/usr/local/lib/python3.7/dist-packages/seaborn/_decorators.py:43: FutureWarning: Pass the following variable as a keyword arg: x. From version 0.12, the only valid positional argument will be `data`, and passing other arguments without an explicit keyword will result in an error or misinterpretation.\n",
            "  FutureWarning\n"
          ],
          "name": "stderr"
        },
        {
          "output_type": "execute_result",
          "data": {
            "text/plain": [
              "<matplotlib.axes._subplots.AxesSubplot at 0x7fb45b939210>"
            ]
          },
          "metadata": {
            "tags": []
          },
          "execution_count": 57
        },
        {
          "output_type": "display_data",
          "data": {
            "image/png": "[encoded data removed]",
            "text/plain": [
              "<Figure size 576x432 with 1 Axes>"
            ]
          },
          "metadata": {
            "tags": [],
            "needs_background": "light"
          }
        }
      ]
    },
    {
      "cell_type": "code",
      "metadata": {
        "id": "AjIv6I6JyFEr"
      },
      "source": [
        "most_imp_comments = df.sort_values(by = 'thumbsUpCount',ascending=False)[['content','thumbsUpCount','score']][:10]"
      ],
      "execution_count": 64,
      "outputs": []
    },
    {
      "cell_type": "code",
      "metadata": {
        "colab": {
          "base_uri": "https://localhost:8080/"
        },
        "id": "K6tO7wiTyTCC",
        "outputId": "c8aa86ef-9da9-4f19-e894-60f2f89b8f07"
      },
      "source": [
        "for _,cmt in most_imp_comments.iterrows():\n",
        "  print('Upvoted by - ',cmt['thumbsUpCount'], ', score - ', cmt['score'])\n",
        "  print(cmt['content'])\n",
        "  print(' ')"
      ],
      "execution_count": 66,
      "outputs": [
        {
          "output_type": "stream",
          "text": [
            "Upvoted by -  67 , score -  1\n",
            "Downloaded this app two weeks before but it is not activated till now.  It indicates your app will be activated in 24 hrs. Waste of time waiting for it. Even their staff doesn't know about this app. Enquired it with  about five persons of Axis bank staff regarding this. Nobody knows about it and no proper response.\n",
            " \n",
            "Upvoted by -  39 , score -  1\n",
            "This app works only when I call for help.  I Installed this app when i installed the  POS machine . THe machine works well but i cannot see the transactions on the app. Even after entering the correct mid and mPIN, it does not sign in and no response is shown on the app.  Dear Developers, Please do not upload such applications which are not fully working ( Testing Done ).  Please Do NOt RePly That YOU REGRET for the app's Misbehaviour... First Rectify the problem then contact or reply\n",
            " \n",
            "Upvoted by -  38 , score -  1\n",
            "i am facing issue from past one month and i called your employees for about 100 times but i didnt get any respond. now it shows me hold amount but your bank didnt inform me. worst service ever i experienced with axis bank... especially bodhgaya branch..\n",
            " \n",
            "Upvoted by -  33 , score -  1\n",
            "Update 20/02/17 Best bank...best services..ruined by bad employees & oficers.. Given detailed feedback , technical data to developer still problems persist with app.. Problems 1) able to sign up on 1st try only...2nd time onwards app freezes itself..tried on lollipop & marshmallow device still same issue.. 2) to email yourself , it says email id not registered..ok..but where is the option to register it? 3) transaction reports are not complete.. it skips 1 or 2 days or even transaction on same day..!!\n",
            " \n",
            "Upvoted by -  33 , score -  1\n",
            "Limited options...Absolutely no query raising possibility... Axis bank swipe machines have worst service , highest rentals and does not accepts most of the cards ....\n",
            " \n",
            "Upvoted by -  31 , score -  5\n",
            "I have multiple MID how can i manage all MIDs in one App...\n",
            " \n",
            "Upvoted by -  30 , score -  1\n",
            "Have been using a lot of Merchant Apps from different banks and this app is by far the most disgusting app. It is always a trouble logging into this app. Even if you manage to login the app keeps crashing every now and then. Really bad service from Axis Bank.\n",
            " \n",
            "Upvoted by -  30 , score -  5\n",
            "I used to face a lot of service related problems ever since I have taken a POS terminal of Axis bank. But now, I resolve all my service related problems through this app. It would be great if you can add few more modes of payment on this app ASAP. I recommend this app to all because, right now, this is the Best Merchant App in India across banks.\n",
            " \n",
            "Upvoted by -  28 , score -  1\n",
            "Feeling very irritated - Not able to login at all. Each time facing different issues still I didn't login. I have shared this issue with snapshots but am getting only useless responses. I dont know where can I report this issue. Still wondering am seeing so many comments but no one responds or no reaction from axis Merchant.\n",
            " \n",
            "Upvoted by -  28 , score -  2\n",
            "Reports /MIS IS VERY POOR❗️ WE cant extract reports in Screen for monthly, weekly, for a period,previous days.All we can select a date and report goes to e. Email..we to open email +Dload for s petiod report.. Quite non sense ❗️We can't view any reports in application screen 🤪 Pls do an upgrade to settle the issues.No magical remedy, ( Homa+yaaga +pooja)for the above.Scientific approach with a \"scientific TEMPER \" is essential My TID 7357 3640✅️can any ONE IN axis is courageous to contact me??\n",
            " \n"
          ],
          "name": "stdout"
        }
      ]
    },
    {
      "cell_type": "code",
      "metadata": {
        "id": "szqOgAPHy6NT"
      },
      "source": [
        "# data preprocessing / cleaning text \n",
        "df['cleaned_text'] = df['content'].apply(lambda x : ' '.join([lemmatizer.lemmatize(word.lower()) \\\n",
        "    for word in word_tokenize(re.sub(r'([^\\s\\w]|_)+', ' ', x)) if word.lower() not in stop_words]))\n",
        "\n",
        "df['polarity'] = df['cleaned_text'].map(lambda text: TextBlob(text).sentiment.polarity)\n",
        "df['review_len'] = df['cleaned_text'].astype(str).apply(len)\n",
        "df['word_count'] = df['cleaned_text'].apply(lambda x: len(str(x).split()))"
      ],
      "execution_count": 62,
      "outputs": []
    },
    {
      "cell_type": "code",
      "metadata": {
        "colab": {
          "base_uri": "https://localhost:8080/",
          "height": 649
        },
        "id": "1Y-JA8pC0oNv",
        "outputId": "1099c9fd-fede-441e-8c97-d1aaad8bf97e"
      },
      "source": [
        "df.head()"
      ],
      "execution_count": 63,
      "outputs": [
        {
          "output_type": "execute_result",
          "data": {
            "text/html": [
              "<div>\n",
              "<style scoped>\n",
              "    .dataframe tbody tr th:only-of-type {\n",
              "        vertical-align: middle;\n",
              "    }\n",
              "\n",
              "    .dataframe tbody tr th {\n",
              "        vertical-align: top;\n",
              "    }\n",
              "\n",
              "    .dataframe thead th {\n",
              "        text-align: right;\n",
              "    }\n",
              "</style>\n",
              "<table border=\"1\" class=\"dataframe\">\n",
              "  <thead>\n",
              "    <tr style=\"text-align: right;\">\n",
              "      <th></th>\n",
              "      <th>Unnamed: 0</th>\n",
              "      <th>reviewId</th>\n",
              "      <th>userName</th>\n",
              "      <th>userImage</th>\n",
              "      <th>content</th>\n",
              "      <th>score</th>\n",
              "      <th>thumbsUpCount</th>\n",
              "      <th>reviewCreatedVersion</th>\n",
              "      <th>at</th>\n",
              "      <th>replyContent</th>\n",
              "      <th>repliedAt</th>\n",
              "      <th>cleaned_text</th>\n",
              "      <th>polarity</th>\n",
              "      <th>review_len</th>\n",
              "      <th>word_count</th>\n",
              "    </tr>\n",
              "  </thead>\n",
              "  <tbody>\n",
              "    <tr>\n",
              "      <th>0</th>\n",
              "      <td>0</td>\n",
              "      <td>gp:AOqpTOFVeaiZwKMk1YiPI5VbMaMDdz3afjdjeBD_ZKw...</td>\n",
              "      <td>Kunal Choksi</td>\n",
              "      <td>https://play-lh.googleusercontent.com/a-/AOh14...</td>\n",
              "      <td>Totally not satisfied with services. No respon...</td>\n",
              "      <td>1</td>\n",
              "      <td>17</td>\n",
              "      <td>1.1.8</td>\n",
              "      <td>2021-03-19 18:21:48</td>\n",
              "      <td>NaN</td>\n",
              "      <td>NaN</td>\n",
              "      <td>totally satisfied service response service als...</td>\n",
              "      <td>0.330</td>\n",
              "      <td>67</td>\n",
              "      <td>9</td>\n",
              "    </tr>\n",
              "    <tr>\n",
              "      <th>1</th>\n",
              "      <td>1</td>\n",
              "      <td>gp:AOqpTOFu1-It2xJ0WYiryKStQ3TUNHG9q31mwGI4oBu...</td>\n",
              "      <td>Chandrakant Ghangale</td>\n",
              "      <td>https://play-lh.googleusercontent.com/a-/AOh14...</td>\n",
              "      <td>Poor report/mis service. Can't change the date...</td>\n",
              "      <td>1</td>\n",
              "      <td>11</td>\n",
              "      <td>1.1.8</td>\n",
              "      <td>2021-03-28 21:28:32</td>\n",
              "      <td>NaN</td>\n",
              "      <td>NaN</td>\n",
              "      <td>poor report mi service change date report stuc...</td>\n",
              "      <td>-0.400</td>\n",
              "      <td>86</td>\n",
              "      <td>14</td>\n",
              "    </tr>\n",
              "    <tr>\n",
              "      <th>2</th>\n",
              "      <td>2</td>\n",
              "      <td>gp:AOqpTOEZovnMWg8z6ynVs8mR3Qr_9WwnIWLy8_iMtSR...</td>\n",
              "      <td>Prakash Reddy</td>\n",
              "      <td>https://play-lh.googleusercontent.com/a-/AOh14...</td>\n",
              "      <td>Not able to see transaction reports, showing n...</td>\n",
              "      <td>1</td>\n",
              "      <td>4</td>\n",
              "      <td>1.1.8</td>\n",
              "      <td>2021-05-09 09:16:17</td>\n",
              "      <td>NaN</td>\n",
              "      <td>NaN</td>\n",
              "      <td>able see transaction report showing data found...</td>\n",
              "      <td>0.550</td>\n",
              "      <td>72</td>\n",
              "      <td>11</td>\n",
              "    </tr>\n",
              "    <tr>\n",
              "      <th>3</th>\n",
              "      <td>3</td>\n",
              "      <td>gp:AOqpTOFmPJa1do5AVUJ4X5ZGwkzhx6OAeb8dJLtaJoJ...</td>\n",
              "      <td>sahil gupta</td>\n",
              "      <td>https://play-lh.googleusercontent.com/a/AATXAJ...</td>\n",
              "      <td>Good Job! Complaints are actually getting reso...</td>\n",
              "      <td>5</td>\n",
              "      <td>17</td>\n",
              "      <td>1.1.6</td>\n",
              "      <td>2018-12-12 12:18:10</td>\n",
              "      <td>Dear Sahil, Thanks for the feedback. We will c...</td>\n",
              "      <td>2018-12-19 13:15:02</td>\n",
              "      <td>good job complaint actually getting resolved a...</td>\n",
              "      <td>0.225</td>\n",
              "      <td>190</td>\n",
              "      <td>27</td>\n",
              "    </tr>\n",
              "    <tr>\n",
              "      <th>4</th>\n",
              "      <td>4</td>\n",
              "      <td>gp:AOqpTOF_fy773cE5sNtf0a0yy3sDqG24OFuzbpaz9vi...</td>\n",
              "      <td>R.Sharath kumar</td>\n",
              "      <td>https://play-lh.googleusercontent.com/a-/AOh14...</td>\n",
              "      <td>Feeling very irritated - Not able to login at ...</td>\n",
              "      <td>1</td>\n",
              "      <td>28</td>\n",
              "      <td>1.1.7.2</td>\n",
              "      <td>2020-08-20 16:28:56</td>\n",
              "      <td>NaN</td>\n",
              "      <td>NaN</td>\n",
              "      <td>feeling irritated able login time facing diffe...</td>\n",
              "      <td>0.125</td>\n",
              "      <td>210</td>\n",
              "      <td>30</td>\n",
              "    </tr>\n",
              "  </tbody>\n",
              "</table>\n",
              "</div>"
            ],
            "text/plain": [
              "   Unnamed: 0  ... word_count\n",
              "0           0  ...          9\n",
              "1           1  ...         14\n",
              "2           2  ...         11\n",
              "3           3  ...         27\n",
              "4           4  ...         30\n",
              "\n",
              "[5 rows x 15 columns]"
            ]
          },
          "metadata": {
            "tags": []
          },
          "execution_count": 63
        }
      ]
    },
    {
      "cell_type": "markdown",
      "metadata": {
        "id": "dHyOkWX513vt"
      },
      "source": [
        "# Sentiment Analysis"
      ]
    },
    {
      "cell_type": "code",
      "metadata": {
        "colab": {
          "base_uri": "https://localhost:8080/",
          "height": 282
        },
        "id": "JTY16c268M_f",
        "outputId": "23db0fa2-6446-449d-89fe-50a31c2e7113"
      },
      "source": [
        "df['polarity'].hist()"
      ],
      "execution_count": 67,
      "outputs": [
        {
          "output_type": "execute_result",
          "data": {
            "text/plain": [
              "<matplotlib.axes._subplots.AxesSubplot at 0x7fb45b999290>"
            ]
          },
          "metadata": {
            "tags": []
          },
          "execution_count": 67
        },
        {
          "output_type": "display_data",
          "data": {
            "image/png": "[encoded data removed]",
            "text/plain": [
              "<Figure size 432x288 with 1 Axes>"
            ]
          },
          "metadata": {
            "tags": [],
            "needs_background": "light"
          }
        }
      ]
    },
    {
      "cell_type": "code",
      "metadata": {
        "colab": {
          "base_uri": "https://localhost:8080/",
          "height": 282
        },
        "id": "q0DnKO-S8Vpk",
        "outputId": "fc013eff-9f19-46c2-f034-0b5a2bce7e31"
      },
      "source": [
        "def sentiment(x):\n",
        "    if x<0:\n",
        "        return 'neg'\n",
        "    elif x==0:\n",
        "        return 'neu'\n",
        "    else:\n",
        "        return 'pos'\n",
        "    \n",
        "df['polarity_score']=df['polarity'].\\\n",
        "   map(lambda x: sentiment(x))\n",
        "\n",
        "plt.bar(df.polarity_score.value_counts().index,\n",
        "        df.polarity_score.value_counts())\n"
      ],
      "execution_count": 68,
      "outputs": [
        {
          "output_type": "execute_result",
          "data": {
            "text/plain": [
              "<BarContainer object of 3 artists>"
            ]
          },
          "metadata": {
            "tags": []
          },
          "execution_count": 68
        },
        {
          "output_type": "display_data",
          "data": {
            "image/png": "[encoded data removed]",
            "text/plain": [
              "<Figure size 432x288 with 1 Axes>"
            ]
          },
          "metadata": {
            "tags": [],
            "needs_background": "light"
          }
        }
      ]
    },
    {
      "cell_type": "markdown",
      "metadata": {
        "id": "xgNKyqc68jfx"
      },
      "source": [
        "## Some positive comments"
      ]
    },
    {
      "cell_type": "code",
      "metadata": {
        "colab": {
          "base_uri": "https://localhost:8080/"
        },
        "id": "nz69VrbT8sNL",
        "outputId": "0650b378-0da0-469a-da92-5ddf4dddf9ec"
      },
      "source": [
        "df[df['polarity_score']=='pos']['content'].head()"
      ],
      "execution_count": 69,
      "outputs": [
        {
          "output_type": "execute_result",
          "data": {
            "text/plain": [
              "0    Totally not satisfied with services. No respon...\n",
              "2    Not able to see transaction reports, showing n...\n",
              "3    Good Job! Complaints are actually getting reso...\n",
              "4    Feeling very irritated - Not able to login at ...\n",
              "8    very bed service , don't install edc machine, ...\n",
              "Name: content, dtype: object"
            ]
          },
          "metadata": {
            "tags": []
          },
          "execution_count": 69
        }
      ]
    },
    {
      "cell_type": "markdown",
      "metadata": {
        "id": "zrPFOhc38x5G"
      },
      "source": [
        "## Some Negative Comments"
      ]
    },
    {
      "cell_type": "code",
      "metadata": {
        "colab": {
          "base_uri": "https://localhost:8080/"
        },
        "id": "-MRPl35g8v4s",
        "outputId": "05215143-d9b9-40d6-a1d6-799cab514687"
      },
      "source": [
        "df[df['polarity_score']=='neg']['content'].head()"
      ],
      "execution_count": 70,
      "outputs": [
        {
          "output_type": "execute_result",
          "data": {
            "text/plain": [
              "1    Poor report/mis service. Can't change the date...\n",
              "5    Reports /MIS IS VERY POOR❗️ WE cant extract re...\n",
              "6    Have been using a lot of Merchant Apps from di...\n",
              "7    A lousy app. Been a merchant with axis almost ...\n",
              "9    Very worst app I'm unebal to login ever time i...\n",
              "Name: content, dtype: object"
            ]
          },
          "metadata": {
            "tags": []
          },
          "execution_count": 70
        }
      ]
    },
    {
      "cell_type": "markdown",
      "metadata": {
        "id": "GWJbKBPP800S"
      },
      "source": [
        "## Some Neutral Comments"
      ]
    },
    {
      "cell_type": "code",
      "metadata": {
        "colab": {
          "base_uri": "https://localhost:8080/"
        },
        "id": "6xSpLjJ2-W-h",
        "outputId": "b1f63436-c8cf-421b-f815-687a4d8cbc06"
      },
      "source": [
        "df[df['polarity_score']=='neu']['content'].head()"
      ],
      "execution_count": 71,
      "outputs": [
        {
          "output_type": "execute_result",
          "data": {
            "text/plain": [
              "12    I can't login. Always show message that mid wa...\n",
              "18    Everytime I enter OTP, it just keep getting pr...\n",
              "19    Best worst app, it take 2-3 years to see a rep...\n",
              "26    This app never works properly....no proper ref...\n",
              "28    It's not working at all. When m entered the MI...\n",
              "Name: content, dtype: object"
            ]
          },
          "metadata": {
            "tags": []
          },
          "execution_count": 71
        }
      ]
    },
    {
      "cell_type": "markdown",
      "metadata": {
        "id": "HIa12XoD-Yp7"
      },
      "source": [
        "## Polarity by ratings"
      ]
    },
    {
      "cell_type": "code",
      "metadata": {
        "colab": {
          "base_uri": "https://localhost:8080/",
          "height": 514
        },
        "id": "zqBBZaGd-0ca",
        "outputId": "5fff0c9b-774f-4ca5-ec07-ce7e704ad5df"
      },
      "source": [
        "plt.figure(figsize = (12,8))\n",
        "sns.histplot(data = df,x = 'score',hue = 'polarity_score',multiple=\"dodge\")"
      ],
      "execution_count": 75,
      "outputs": [
        {
          "output_type": "execute_result",
          "data": {
            "text/plain": [
              "<matplotlib.axes._subplots.AxesSubplot at 0x7fb45b6f4450>"
            ]
          },
          "metadata": {
            "tags": []
          },
          "execution_count": 75
        },
        {
          "output_type": "display_data",
          "data": {
            "image/png": "[encoded data removed]",
            "text/plain": [
              "<Figure size 864x576 with 1 Axes>"
            ]
          },
          "metadata": {
            "tags": [],
            "needs_background": "light"
          }
        }
      ]
    },
    {
      "cell_type": "code",
      "metadata": {
        "id": "d-3h0vFq-7eD"
      },
      "source": [
        ""
      ],
      "execution_count": null,
      "outputs": []
    }
  ]
}